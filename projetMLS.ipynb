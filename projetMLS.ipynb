{
  "nbformat": 4,
  "nbformat_minor": 0,
  "metadata": {
    "colab": {
      "provenance": [],
      "include_colab_link": true
    },
    "kernelspec": {
      "name": "python3",
      "display_name": "Python 3"
    },
    "language_info": {
      "name": "python"
    }
  },
  "cells": [
    {
      "cell_type": "markdown",
      "metadata": {
        "id": "view-in-github",
        "colab_type": "text"
      },
      "source": [
        "<a href=\"https://colab.research.google.com/github/ranabensalem757/projet-mls/blob/main/projetMLS.ipynb\" target=\"_parent\"><img src=\"https://colab.research.google.com/assets/colab-badge.svg\" alt=\"Open In Colab\"/></a>"
      ]
    },
    {
      "cell_type": "code",
      "execution_count": 5,
      "metadata": {
        "colab": {
          "base_uri": "https://localhost:8080/",
          "height": 1000
        },
        "id": "UP-tspy2byUO",
        "outputId": "9e834c2f-b107-4609-9b01-01c32591f571"
      },
      "outputs": [
        {
          "output_type": "display_data",
          "data": {
            "text/plain": [
              "<Figure size 500x500 with 1 Axes>"
            ],
            "image/png": "[encoded data removed]"
          },
          "metadata": {}
        },
        {
          "output_type": "stream",
          "name": "stdout",
          "text": [
            "Colab notebook detected. To show errors in colab notebook, set debug=True in launch()\n",
            "* Running on public URL: https://dbbfa5b6f25ff81dce.gradio.live\n",
            "\n",
            "This share link expires in 1 week. For free permanent hosting and GPU upgrades, run `gradio deploy` from the terminal in the working directory to deploy to Hugging Face Spaces (https://huggingface.co/spaces)\n"
          ]
        },
        {
          "output_type": "display_data",
          "data": {
            "text/plain": [
              "<IPython.core.display.HTML object>"
            ],
            "text/html": [
              "<div><iframe src=\"https://dbbfa5b6f25ff81dce.gradio.live\" width=\"100%\" height=\"500\" allow=\"autoplay; camera; microphone; clipboard-read; clipboard-write;\" frameborder=\"0\" allowfullscreen></iframe></div>"
            ]
          },
          "metadata": {}
        },
        {
          "output_type": "execute_result",
          "data": {
            "text/plain": []
          },
          "metadata": {},
          "execution_count": 5
        }
      ],
      "source": [
        "import pandas as pd\n",
        "df = pd.read_csv(\"studentPerformance.csv\")\n",
        "y = df['Pass_Fail']\n",
        "x = df.drop('Pass_Fail', axis=1)\n",
        "from sklearn.model_selection import train_test_split\n",
        "x_train, x_test, y_train, y_test = train_test_split(x, y, test_size=0.2, random_state=100)\n",
        "from sklearn.linear_model import LinearRegression\n",
        "lr = LinearRegression()\n",
        "lr.fit(x_train, y_train)\n",
        "y_lr_train_pred = lr.predict(x_train)\n",
        "y_lr_test_pred = lr.predict(x_test)\n",
        "from sklearn.metrics import mean_squared_error , r2_score\n",
        "lr_train_mse = mean_squared_error(y_train, y_lr_train_pred)\n",
        "lr_train_r2 = r2_score(y_train, y_lr_train_pred)\n",
        "lr_test_mse = mean_squared_error(y_test, y_lr_test_pred)\n",
        "lr_test_r2 = r2_score(y_test, y_lr_test_pred)\n",
        "lr_results = pd.DataFrame(['Linear regression', lr_train_mse, lr_train_r2, lr_test_mse, lr_test_r2]).transpose()\n",
        "lr_results.columns = ['Method', 'Training MSE', 'Training R2', 'Test MSE', 'Test R2']\n",
        "\n",
        "from sklearn.linear_model import LogisticRegression\n",
        "logreg = LogisticRegression()\n",
        "logreg.fit(x_train, y_train)\n",
        "y_logreg_train_pred = logreg.predict(x_train)\n",
        "y_logreg_test_pred = logreg.predict(x_test)\n",
        "from sklearn.metrics import mean_squared_error , r2_score\n",
        "logreg_train_mse = mean_squared_error(y_train, y_logreg_train_pred)\n",
        "logreg_train_r2 = r2_score(y_train, y_logreg_train_pred)\n",
        "logreg_test_mse = mean_squared_error(y_test, y_logreg_test_pred)\n",
        "logreg_test_r2 = r2_score(y_test, y_logreg_test_pred)\n",
        "logreg_results = pd.DataFrame(['Logistic regression', logreg_train_mse, logreg_train_r2, logreg_test_mse, logreg_test_r2]).transpose()\n",
        "logreg_results.columns = ['Method', 'Training MSE', 'Training R2', 'Test MSE', 'Test R2']\n",
        "df_models = pd.concat([lr_results, logreg_results], axis=0)\n",
        "df_models.reset_index(drop=True)\n",
        "\n",
        "\n",
        "import matplotlib.pyplot as plt\n",
        "import numpy as np\n",
        "\n",
        "plt.figure(figsize=(5,5))\n",
        "plt.scatter(y_train, y_lr_train_pred)\n",
        "z= np.polyfit(y_train, y_lr_train_pred, 1)\n",
        "p = np.poly1d(z)\n",
        "plt.plot(y_train,p(y_train),'#F8766D')\n",
        "plt.scatter(y_train, y_logreg_train_pred)\n",
        "c= np.polyfit(y_train, y_logreg_train_pred, 1)\n",
        "p = np.poly1d(c)\n",
        "plt.plot(y_train,p(y_train),'#F8766D')\n",
        "plt.show()\n",
        "df_models\n",
        "import gradio as gr\n",
        "import joblib\n",
        "\n",
        "class DummyModel:\n",
        "    def predict(self, X):\n",
        "        return [\n",
        "            X[\"Study_Hours\"][0]*10 +\n",
        "            X[\"Attendance\"][0]*0.3 +\n",
        "            X[\"Practice_Tests\"][0]*5\n",
        "        ]\n",
        "lr = DummyModel()\n",
        "def predict_score(study_hours, attendance, practice_tests):\n",
        "\n",
        "    input_data = pd.DataFrame({\n",
        "        'Study_Hours': [study_hours],\n",
        "        'Attendance': [attendance],\n",
        "        'Practice_Tests': [practice_tests]\n",
        "    })\n",
        "\n",
        "    predicted_score = lr.predict(input_data)[0]\n",
        "\n",
        "    result = \"Pass \" if predicted_score >= 50 else \"Fail \"\n",
        "\n",
        "    return round(predicted_score, 2), result\n",
        "\n",
        "interface = gr.Interface(\n",
        "    fn=predict_score,\n",
        "    inputs=[\n",
        "        gr.Slider(0, 10, step=0.1, label=\"Study Hours\"),\n",
        "        gr.Slider(50, 100, step=1, label=\"Attendance (%)\"),\n",
        "        gr.Number(label=\"Practice Tests\", value=0)\n",
        "    ],\n",
        "    outputs=[\n",
        "        gr.Label(label=\"Predicted Final Score\"),\n",
        "        gr.Label(label=\"Predicted Result (Pass/Fail)\")\n",
        "    ],\n",
        "    title=\"Student Performance Predictor\",\n",
        "    description=\"Prédit le score final (Final_Score) et le résultat (Pass_Fail) d’un étudiant selon ses heures d’étude, sa présence et ses tests pratiques.\",\n",
        "    examples=[\n",
        "        [2, 60, 1],\n",
        "        [6, 85, 3],\n",
        "        [9, 95, 8]\n",
        "    ]\n",
        ")\n",
        "interface.launch(share=True)"
      ]
    }
  ]
}